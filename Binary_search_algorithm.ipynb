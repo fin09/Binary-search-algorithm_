{
  "nbformat": 4,
  "nbformat_minor": 0,
  "metadata": {
    "colab": {
      "provenance": []
    },
    "kernelspec": {
      "name": "python3",
      "display_name": "Python 3"
    },
    "language_info": {
      "name": "python"
    }
  },
  "cells": [
    {
      "cell_type": "code",
      "execution_count": 2,
      "metadata": {
        "colab": {
          "base_uri": "https://localhost:8080/"
        },
        "id": "AwHIRnB9Nnun",
        "outputId": "ccdfc9b3-e508-4630-8a86-042d1c502124"
      },
      "outputs": [
        {
          "output_type": "stream",
          "name": "stdout",
          "text": [
            "Element not found in the list\n"
          ]
        }
      ],
      "source": [
        "def binary_search(arr, target):\n",
        "    low = 0\n",
        "    high = len(arr) - 1\n",
        "\n",
        "    while low <= high:\n",
        "        mid = (low + high) // 2\n",
        "\n",
        "        # Check if the middle element is the target\n",
        "        if arr[mid] == target:\n",
        "            return mid  # Target found, return the index\n",
        "        elif arr[mid] < target:\n",
        "            low = mid + 1  # If the target is greater, search in the right half\n",
        "        else:\n",
        "            high = mid - 1  # If the target is smaller, search in the left half\n",
        "\n",
        "    return -1  # Target not found in the list\n",
        "\n",
        "arr = [1, 3, 5, 7, 9, 11, 13, 15]\n",
        "target = 77\n",
        "result = binary_search(arr, target)\n",
        "\n",
        "if result != -1:\n",
        "    print(f\"Element found at index {result}\")\n",
        "else:\n",
        "    print(\"Element not found in the list\")\n"
      ]
    }
  ]
}